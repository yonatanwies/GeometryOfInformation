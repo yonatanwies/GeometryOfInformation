{
 "cells": [
  {
   "cell_type": "code",
   "execution_count": 2,
   "metadata": {},
   "outputs": [
    {
     "name": "stdout",
     "output_type": "stream",
     "text": [
      "Requirement already satisfied: scikit-learn in c:\\users\\yonat\\documents\\geomteryofinformation\\lib\\site-packages (1.4.1.post1)\n",
      "Requirement already satisfied: numpy<2.0,>=1.19.5 in c:\\users\\yonat\\documents\\geomteryofinformation\\lib\\site-packages (from scikit-learn) (1.26.4)\n",
      "Requirement already satisfied: scipy>=1.6.0 in c:\\users\\yonat\\documents\\geomteryofinformation\\lib\\site-packages (from scikit-learn) (1.12.0)\n",
      "Requirement already satisfied: joblib>=1.2.0 in c:\\users\\yonat\\documents\\geomteryofinformation\\lib\\site-packages (from scikit-learn) (1.3.2)\n",
      "Requirement already satisfied: threadpoolctl>=2.0.0 in c:\\users\\yonat\\documents\\geomteryofinformation\\lib\\site-packages (from scikit-learn) (3.3.0)\n",
      "Note: you may need to restart the kernel to use updated packages.\n"
     ]
    },
    {
     "name": "stderr",
     "output_type": "stream",
     "text": [
      "\n",
      "[notice] A new release of pip is available: 23.3.2 -> 24.0\n",
      "[notice] To update, run: python.exe -m pip install --upgrade pip\n"
     ]
    },
    {
     "name": "stdout",
     "output_type": "stream",
     "text": [
      "Requirement already satisfied: pandas in c:\\users\\yonat\\documents\\geomteryofinformation\\lib\\site-packages (2.2.1)\n",
      "Requirement already satisfied: numpy<2,>=1.22.4 in c:\\users\\yonat\\documents\\geomteryofinformation\\lib\\site-packages (from pandas) (1.26.4)\n",
      "Requirement already satisfied: python-dateutil>=2.8.2 in c:\\users\\yonat\\documents\\geomteryofinformation\\lib\\site-packages (from pandas) (2.8.2)\n",
      "Requirement already satisfied: pytz>=2020.1 in c:\\users\\yonat\\documents\\geomteryofinformation\\lib\\site-packages (from pandas) (2024.1)\n",
      "Requirement already satisfied: tzdata>=2022.7 in c:\\users\\yonat\\documents\\geomteryofinformation\\lib\\site-packages (from pandas) (2024.1)\n",
      "Requirement already satisfied: six>=1.5 in c:\\users\\yonat\\documents\\geomteryofinformation\\lib\\site-packages (from python-dateutil>=2.8.2->pandas) (1.16.0)\n",
      "Note: you may need to restart the kernel to use updated packages.\n"
     ]
    },
    {
     "name": "stderr",
     "output_type": "stream",
     "text": [
      "\n",
      "[notice] A new release of pip is available: 23.3.2 -> 24.0\n",
      "[notice] To update, run: python.exe -m pip install --upgrade pip\n"
     ]
    },
    {
     "name": "stdout",
     "output_type": "stream",
     "text": [
      "Requirement already satisfied: seaborn in c:\\users\\yonat\\documents\\geomteryofinformation\\lib\\site-packages (0.13.2)\n",
      "Requirement already satisfied: numpy!=1.24.0,>=1.20 in c:\\users\\yonat\\documents\\geomteryofinformation\\lib\\site-packages (from seaborn) (1.26.4)\n",
      "Requirement already satisfied: pandas>=1.2 in c:\\users\\yonat\\documents\\geomteryofinformation\\lib\\site-packages (from seaborn) (2.2.1)\n",
      "Requirement already satisfied: matplotlib!=3.6.1,>=3.4 in c:\\users\\yonat\\documents\\geomteryofinformation\\lib\\site-packages (from seaborn) (3.8.3)\n",
      "Requirement already satisfied: contourpy>=1.0.1 in c:\\users\\yonat\\documents\\geomteryofinformation\\lib\\site-packages (from matplotlib!=3.6.1,>=3.4->seaborn) (1.2.0)\n",
      "Requirement already satisfied: cycler>=0.10 in c:\\users\\yonat\\documents\\geomteryofinformation\\lib\\site-packages (from matplotlib!=3.6.1,>=3.4->seaborn) (0.12.1)\n",
      "Requirement already satisfied: fonttools>=4.22.0 in c:\\users\\yonat\\documents\\geomteryofinformation\\lib\\site-packages (from matplotlib!=3.6.1,>=3.4->seaborn) (4.49.0)\n",
      "Requirement already satisfied: kiwisolver>=1.3.1 in c:\\users\\yonat\\documents\\geomteryofinformation\\lib\\site-packages (from matplotlib!=3.6.1,>=3.4->seaborn) (1.4.5)\n",
      "Requirement already satisfied: packaging>=20.0 in c:\\users\\yonat\\documents\\geomteryofinformation\\lib\\site-packages (from matplotlib!=3.6.1,>=3.4->seaborn) (23.2)\n",
      "Requirement already satisfied: pillow>=8 in c:\\users\\yonat\\documents\\geomteryofinformation\\lib\\site-packages (from matplotlib!=3.6.1,>=3.4->seaborn) (10.2.0)\n",
      "Requirement already satisfied: pyparsing>=2.3.1 in c:\\users\\yonat\\documents\\geomteryofinformation\\lib\\site-packages (from matplotlib!=3.6.1,>=3.4->seaborn) (3.1.1)\n",
      "Requirement already satisfied: python-dateutil>=2.7 in c:\\users\\yonat\\documents\\geomteryofinformation\\lib\\site-packages (from matplotlib!=3.6.1,>=3.4->seaborn) (2.8.2)\n",
      "Requirement already satisfied: importlib-resources>=3.2.0 in c:\\users\\yonat\\documents\\geomteryofinformation\\lib\\site-packages (from matplotlib!=3.6.1,>=3.4->seaborn) (6.1.2)\n",
      "Requirement already satisfied: pytz>=2020.1 in c:\\users\\yonat\\documents\\geomteryofinformation\\lib\\site-packages (from pandas>=1.2->seaborn) (2024.1)\n",
      "Requirement already satisfied: tzdata>=2022.7 in c:\\users\\yonat\\documents\\geomteryofinformation\\lib\\site-packages (from pandas>=1.2->seaborn) (2024.1)\n",
      "Requirement already satisfied: zipp>=3.1.0 in c:\\users\\yonat\\documents\\geomteryofinformation\\lib\\site-packages (from importlib-resources>=3.2.0->matplotlib!=3.6.1,>=3.4->seaborn) (3.17.0)\n",
      "Requirement already satisfied: six>=1.5 in c:\\users\\yonat\\documents\\geomteryofinformation\\lib\\site-packages (from python-dateutil>=2.7->matplotlib!=3.6.1,>=3.4->seaborn) (1.16.0)\n",
      "Note: you may need to restart the kernel to use updated packages.\n"
     ]
    },
    {
     "name": "stderr",
     "output_type": "stream",
     "text": [
      "\n",
      "[notice] A new release of pip is available: 23.3.2 -> 24.0\n",
      "[notice] To update, run: python.exe -m pip install --upgrade pip\n"
     ]
    },
    {
     "name": "stdout",
     "output_type": "stream",
     "text": [
      "Requirement already satisfied: torch in c:\\users\\yonat\\documents\\geomteryofinformation\\lib\\site-packages (2.2.1)\n",
      "Requirement already satisfied: filelock in c:\\users\\yonat\\documents\\geomteryofinformation\\lib\\site-packages (from torch) (3.13.1)\n",
      "Requirement already satisfied: typing-extensions>=4.8.0 in c:\\users\\yonat\\documents\\geomteryofinformation\\lib\\site-packages (from torch) (4.10.0)\n",
      "Requirement already satisfied: sympy in c:\\users\\yonat\\documents\\geomteryofinformation\\lib\\site-packages (from torch) (1.12)\n",
      "Requirement already satisfied: networkx in c:\\users\\yonat\\documents\\geomteryofinformation\\lib\\site-packages (from torch) (3.2.1)\n",
      "Requirement already satisfied: jinja2 in c:\\users\\yonat\\documents\\geomteryofinformation\\lib\\site-packages (from torch) (3.1.3)\n",
      "Requirement already satisfied: fsspec in c:\\users\\yonat\\documents\\geomteryofinformation\\lib\\site-packages (from torch) (2024.2.0)\n",
      "Requirement already satisfied: MarkupSafe>=2.0 in c:\\users\\yonat\\documents\\geomteryofinformation\\lib\\site-packages (from jinja2->torch) (2.1.5)\n",
      "Requirement already satisfied: mpmath>=0.19 in c:\\users\\yonat\\documents\\geomteryofinformation\\lib\\site-packages (from sympy->torch) (1.3.0)\n",
      "Note: you may need to restart the kernel to use updated packages.\n"
     ]
    },
    {
     "name": "stderr",
     "output_type": "stream",
     "text": [
      "\n",
      "[notice] A new release of pip is available: 23.3.2 -> 24.0\n",
      "[notice] To update, run: python.exe -m pip install --upgrade pip\n"
     ]
    },
    {
     "name": "stdout",
     "output_type": "stream",
     "text": [
      "Requirement already satisfied: stg in c:\\users\\yonat\\documents\\geomteryofinformation\\lib\\site-packages (0.1.2)\n",
      "Requirement already satisfied: torch in c:\\users\\yonat\\documents\\geomteryofinformation\\lib\\site-packages (from stg) (2.2.1)\n",
      "Requirement already satisfied: h5py in c:\\users\\yonat\\documents\\geomteryofinformation\\lib\\site-packages (from stg) (3.10.0)\n",
      "Requirement already satisfied: six in c:\\users\\yonat\\documents\\geomteryofinformation\\lib\\site-packages (from stg) (1.16.0)\n",
      "Requirement already satisfied: lifelines in c:\\users\\yonat\\documents\\geomteryofinformation\\lib\\site-packages (from stg) (0.28.0)\n",
      "Requirement already satisfied: numpy>=1.17.3 in c:\\users\\yonat\\documents\\geomteryofinformation\\lib\\site-packages (from h5py->stg) (1.26.4)\n",
      "Requirement already satisfied: scipy>=1.2.0 in c:\\users\\yonat\\documents\\geomteryofinformation\\lib\\site-packages (from lifelines->stg) (1.12.0)\n",
      "Requirement already satisfied: pandas>=1.2.0 in c:\\users\\yonat\\documents\\geomteryofinformation\\lib\\site-packages (from lifelines->stg) (2.2.1)\n",
      "Requirement already satisfied: matplotlib>=3.0 in c:\\users\\yonat\\documents\\geomteryofinformation\\lib\\site-packages (from lifelines->stg) (3.8.3)\n",
      "Requirement already satisfied: autograd>=1.5 in c:\\users\\yonat\\documents\\geomteryofinformation\\lib\\site-packages (from lifelines->stg) (1.6.2)\n",
      "Requirement already satisfied: autograd-gamma>=0.3 in c:\\users\\yonat\\documents\\geomteryofinformation\\lib\\site-packages (from lifelines->stg) (0.5.0)\n",
      "Requirement already satisfied: formulaic>=0.2.2 in c:\\users\\yonat\\documents\\geomteryofinformation\\lib\\site-packages (from lifelines->stg) (1.0.1)\n",
      "Requirement already satisfied: filelock in c:\\users\\yonat\\documents\\geomteryofinformation\\lib\\site-packages (from torch->stg) (3.13.1)\n",
      "Requirement already satisfied: typing-extensions>=4.8.0 in c:\\users\\yonat\\documents\\geomteryofinformation\\lib\\site-packages (from torch->stg) (4.10.0)\n",
      "Requirement already satisfied: sympy in c:\\users\\yonat\\documents\\geomteryofinformation\\lib\\site-packages (from torch->stg) (1.12)\n",
      "Requirement already satisfied: networkx in c:\\users\\yonat\\documents\\geomteryofinformation\\lib\\site-packages (from torch->stg) (3.2.1)\n",
      "Requirement already satisfied: jinja2 in c:\\users\\yonat\\documents\\geomteryofinformation\\lib\\site-packages (from torch->stg) (3.1.3)\n",
      "Requirement already satisfied: fsspec in c:\\users\\yonat\\documents\\geomteryofinformation\\lib\\site-packages (from torch->stg) (2024.2.0)\n",
      "Requirement already satisfied: future>=0.15.2 in c:\\users\\yonat\\documents\\geomteryofinformation\\lib\\site-packages (from autograd>=1.5->lifelines->stg) (1.0.0)\n",
      "Requirement already satisfied: interface-meta>=1.2.0 in c:\\users\\yonat\\documents\\geomteryofinformation\\lib\\site-packages (from formulaic>=0.2.2->lifelines->stg) (1.3.0)\n",
      "Requirement already satisfied: wrapt>=1.0 in c:\\users\\yonat\\documents\\geomteryofinformation\\lib\\site-packages (from formulaic>=0.2.2->lifelines->stg) (1.16.0)\n",
      "Requirement already satisfied: contourpy>=1.0.1 in c:\\users\\yonat\\documents\\geomteryofinformation\\lib\\site-packages (from matplotlib>=3.0->lifelines->stg) (1.2.0)\n",
      "Requirement already satisfied: cycler>=0.10 in c:\\users\\yonat\\documents\\geomteryofinformation\\lib\\site-packages (from matplotlib>=3.0->lifelines->stg) (0.12.1)\n",
      "Requirement already satisfied: fonttools>=4.22.0 in c:\\users\\yonat\\documents\\geomteryofinformation\\lib\\site-packages (from matplotlib>=3.0->lifelines->stg) (4.49.0)\n",
      "Requirement already satisfied: kiwisolver>=1.3.1 in c:\\users\\yonat\\documents\\geomteryofinformation\\lib\\site-packages (from matplotlib>=3.0->lifelines->stg) (1.4.5)\n",
      "Requirement already satisfied: packaging>=20.0 in c:\\users\\yonat\\documents\\geomteryofinformation\\lib\\site-packages (from matplotlib>=3.0->lifelines->stg) (23.2)\n",
      "Requirement already satisfied: pillow>=8 in c:\\users\\yonat\\documents\\geomteryofinformation\\lib\\site-packages (from matplotlib>=3.0->lifelines->stg) (10.2.0)\n",
      "Requirement already satisfied: pyparsing>=2.3.1 in c:\\users\\yonat\\documents\\geomteryofinformation\\lib\\site-packages (from matplotlib>=3.0->lifelines->stg) (3.1.1)\n",
      "Requirement already satisfied: python-dateutil>=2.7 in c:\\users\\yonat\\documents\\geomteryofinformation\\lib\\site-packages (from matplotlib>=3.0->lifelines->stg) (2.8.2)\n",
      "Requirement already satisfied: importlib-resources>=3.2.0 in c:\\users\\yonat\\documents\\geomteryofinformation\\lib\\site-packages (from matplotlib>=3.0->lifelines->stg) (6.1.2)\n",
      "Requirement already satisfied: pytz>=2020.1 in c:\\users\\yonat\\documents\\geomteryofinformation\\lib\\site-packages (from pandas>=1.2.0->lifelines->stg) (2024.1)\n",
      "Requirement already satisfied: tzdata>=2022.7 in c:\\users\\yonat\\documents\\geomteryofinformation\\lib\\site-packages (from pandas>=1.2.0->lifelines->stg) (2024.1)\n",
      "Requirement already satisfied: MarkupSafe>=2.0 in c:\\users\\yonat\\documents\\geomteryofinformation\\lib\\site-packages (from jinja2->torch->stg) (2.1.5)\n",
      "Requirement already satisfied: mpmath>=0.19 in c:\\users\\yonat\\documents\\geomteryofinformation\\lib\\site-packages (from sympy->torch->stg) (1.3.0)\n",
      "Requirement already satisfied: zipp>=3.1.0 in c:\\users\\yonat\\documents\\geomteryofinformation\\lib\\site-packages (from importlib-resources>=3.2.0->matplotlib>=3.0->lifelines->stg) (3.17.0)\n",
      "Note: you may need to restart the kernel to use updated packages.\n"
     ]
    },
    {
     "name": "stderr",
     "output_type": "stream",
     "text": [
      "\n",
      "[notice] A new release of pip is available: 23.3.2 -> 24.0\n",
      "[notice] To update, run: python.exe -m pip install --upgrade pip\n"
     ]
    },
    {
     "name": "stdout",
     "output_type": "stream",
     "text": [
      "Note: you may need to restart the kernel to use updated packages.\n"
     ]
    },
    {
     "name": "stderr",
     "output_type": "stream",
     "text": [
      "ERROR: Could not find a version that satisfies the requirement matplotlibv (from versions: none)\n",
      "ERROR: No matching distribution found for matplotlibv\n",
      "\n",
      "[notice] A new release of pip is available: 23.3.2 -> 24.0\n",
      "[notice] To update, run: python.exe -m pip install --upgrade pip\n"
     ]
    }
   ],
   "source": [
    "%pip install scikit-learn\n",
    "%pip install pandas\n",
    "%pip install seaborn\n",
    "%pip install torch\n",
    "%pip install stg \n",
    "%pip install matplotlibv\n"
   ]
  },
  {
   "cell_type": "code",
   "execution_count": 8,
   "metadata": {},
   "outputs": [
    {
     "name": "stdout",
     "output_type": "stream",
     "text": [
      "Collecting stg\n",
      "  Using cached stg-0.1.2-py3-none-any.whl\n",
      "Requirement already satisfied: torch in c:\\users\\yonat\\documents\\geomteryofinformation\\lib\\site-packages (from stg) (2.2.1)\n",
      "Collecting h5py (from stg)\n",
      "  Downloading h5py-3.10.0-cp39-cp39-win_amd64.whl.metadata (2.5 kB)\n",
      "Requirement already satisfied: six in c:\\users\\yonat\\documents\\geomteryofinformation\\lib\\site-packages (from stg) (1.16.0)\n",
      "Collecting lifelines (from stg)\n",
      "  Using cached lifelines-0.28.0-py3-none-any.whl.metadata (3.2 kB)\n",
      "Requirement already satisfied: numpy>=1.17.3 in c:\\users\\yonat\\documents\\geomteryofinformation\\lib\\site-packages (from h5py->stg) (1.26.4)\n",
      "Requirement already satisfied: scipy>=1.2.0 in c:\\users\\yonat\\documents\\geomteryofinformation\\lib\\site-packages (from lifelines->stg) (1.12.0)\n",
      "Requirement already satisfied: pandas>=1.2.0 in c:\\users\\yonat\\documents\\geomteryofinformation\\lib\\site-packages (from lifelines->stg) (2.2.1)\n",
      "Requirement already satisfied: matplotlib>=3.0 in c:\\users\\yonat\\documents\\geomteryofinformation\\lib\\site-packages (from lifelines->stg) (3.8.3)\n",
      "Collecting autograd>=1.5 (from lifelines->stg)\n",
      "  Using cached autograd-1.6.2-py3-none-any.whl.metadata (706 bytes)\n",
      "Collecting autograd-gamma>=0.3 (from lifelines->stg)\n",
      "  Using cached autograd_gamma-0.5.0-py3-none-any.whl\n",
      "Collecting formulaic>=0.2.2 (from lifelines->stg)\n",
      "  Using cached formulaic-1.0.1-py3-none-any.whl.metadata (6.1 kB)\n",
      "Requirement already satisfied: filelock in c:\\users\\yonat\\documents\\geomteryofinformation\\lib\\site-packages (from torch->stg) (3.13.1)\n",
      "Requirement already satisfied: typing-extensions>=4.8.0 in c:\\users\\yonat\\documents\\geomteryofinformation\\lib\\site-packages (from torch->stg) (4.10.0)\n",
      "Requirement already satisfied: sympy in c:\\users\\yonat\\documents\\geomteryofinformation\\lib\\site-packages (from torch->stg) (1.12)\n",
      "Requirement already satisfied: networkx in c:\\users\\yonat\\documents\\geomteryofinformation\\lib\\site-packages (from torch->stg) (3.2.1)\n",
      "Requirement already satisfied: jinja2 in c:\\users\\yonat\\documents\\geomteryofinformation\\lib\\site-packages (from torch->stg) (3.1.3)\n",
      "Requirement already satisfied: fsspec in c:\\users\\yonat\\documents\\geomteryofinformation\\lib\\site-packages (from torch->stg) (2024.2.0)\n",
      "Collecting future>=0.15.2 (from autograd>=1.5->lifelines->stg)\n",
      "  Downloading future-1.0.0-py3-none-any.whl.metadata (4.0 kB)\n",
      "Collecting interface-meta>=1.2.0 (from formulaic>=0.2.2->lifelines->stg)\n",
      "  Downloading interface_meta-1.3.0-py3-none-any.whl.metadata (6.7 kB)\n",
      "Collecting wrapt>=1.0 (from formulaic>=0.2.2->lifelines->stg)\n",
      "  Downloading wrapt-1.16.0-cp39-cp39-win_amd64.whl.metadata (6.8 kB)\n",
      "Requirement already satisfied: contourpy>=1.0.1 in c:\\users\\yonat\\documents\\geomteryofinformation\\lib\\site-packages (from matplotlib>=3.0->lifelines->stg) (1.2.0)\n",
      "Requirement already satisfied: cycler>=0.10 in c:\\users\\yonat\\documents\\geomteryofinformation\\lib\\site-packages (from matplotlib>=3.0->lifelines->stg) (0.12.1)\n",
      "Requirement already satisfied: fonttools>=4.22.0 in c:\\users\\yonat\\documents\\geomteryofinformation\\lib\\site-packages (from matplotlib>=3.0->lifelines->stg) (4.49.0)\n",
      "Requirement already satisfied: kiwisolver>=1.3.1 in c:\\users\\yonat\\documents\\geomteryofinformation\\lib\\site-packages (from matplotlib>=3.0->lifelines->stg) (1.4.5)\n",
      "Requirement already satisfied: packaging>=20.0 in c:\\users\\yonat\\documents\\geomteryofinformation\\lib\\site-packages (from matplotlib>=3.0->lifelines->stg) (23.2)\n",
      "Requirement already satisfied: pillow>=8 in c:\\users\\yonat\\documents\\geomteryofinformation\\lib\\site-packages (from matplotlib>=3.0->lifelines->stg) (10.2.0)\n",
      "Requirement already satisfied: pyparsing>=2.3.1 in c:\\users\\yonat\\documents\\geomteryofinformation\\lib\\site-packages (from matplotlib>=3.0->lifelines->stg) (3.1.1)\n",
      "Requirement already satisfied: python-dateutil>=2.7 in c:\\users\\yonat\\documents\\geomteryofinformation\\lib\\site-packages (from matplotlib>=3.0->lifelines->stg) (2.8.2)\n",
      "Requirement already satisfied: importlib-resources>=3.2.0 in c:\\users\\yonat\\documents\\geomteryofinformation\\lib\\site-packages (from matplotlib>=3.0->lifelines->stg) (6.1.2)\n",
      "Requirement already satisfied: pytz>=2020.1 in c:\\users\\yonat\\documents\\geomteryofinformation\\lib\\site-packages (from pandas>=1.2.0->lifelines->stg) (2024.1)\n",
      "Requirement already satisfied: tzdata>=2022.7 in c:\\users\\yonat\\documents\\geomteryofinformation\\lib\\site-packages (from pandas>=1.2.0->lifelines->stg) (2024.1)\n",
      "Requirement already satisfied: MarkupSafe>=2.0 in c:\\users\\yonat\\documents\\geomteryofinformation\\lib\\site-packages (from jinja2->torch->stg) (2.1.5)\n",
      "Requirement already satisfied: mpmath>=0.19 in c:\\users\\yonat\\documents\\geomteryofinformation\\lib\\site-packages (from sympy->torch->stg) (1.3.0)\n",
      "Requirement already satisfied: zipp>=3.1.0 in c:\\users\\yonat\\documents\\geomteryofinformation\\lib\\site-packages (from importlib-resources>=3.2.0->matplotlib>=3.0->lifelines->stg) (3.17.0)\n",
      "Downloading h5py-3.10.0-cp39-cp39-win_amd64.whl (2.7 MB)\n",
      "   ---------------------------------------- 0.0/2.7 MB ? eta -:--:--\n",
      "   ---------------------------------------- 0.0/2.7 MB 1.4 MB/s eta 0:00:02\n",
      "   - -------------------------------------- 0.1/2.7 MB 1.1 MB/s eta 0:00:03\n",
      "   -- ------------------------------------- 0.2/2.7 MB 1.1 MB/s eta 0:00:03\n",
      "   --- ------------------------------------ 0.3/2.7 MB 1.4 MB/s eta 0:00:02\n",
      "   ---- ----------------------------------- 0.3/2.7 MB 1.3 MB/s eta 0:00:02\n",
      "   ------ --------------------------------- 0.5/2.7 MB 1.9 MB/s eta 0:00:02\n",
      "   -------- ------------------------------- 0.6/2.7 MB 1.8 MB/s eta 0:00:02\n",
      "   --------- ------------------------------ 0.6/2.7 MB 1.8 MB/s eta 0:00:02\n",
      "   --------------- ------------------------ 1.1/2.7 MB 2.6 MB/s eta 0:00:01\n",
      "   ---------------- ----------------------- 1.1/2.7 MB 2.6 MB/s eta 0:00:01\n",
      "   --------------------- ------------------ 1.5/2.7 MB 2.9 MB/s eta 0:00:01\n",
      "   ------------------------ --------------- 1.7/2.7 MB 3.1 MB/s eta 0:00:01\n",
      "   ------------------------ --------------- 1.7/2.7 MB 3.1 MB/s eta 0:00:01\n",
      "   -------------------------------- ------- 2.2/2.7 MB 3.6 MB/s eta 0:00:01\n",
      "   -------------------------------- ------- 2.2/2.7 MB 3.6 MB/s eta 0:00:01\n",
      "   -------------------------------- ------- 2.2/2.7 MB 3.6 MB/s eta 0:00:01\n",
      "   ----------------------------------- ---- 2.4/2.7 MB 3.1 MB/s eta 0:00:01\n",
      "   ---------------------------------------- 2.7/2.7 MB 3.3 MB/s eta 0:00:00\n",
      "Using cached lifelines-0.28.0-py3-none-any.whl (349 kB)\n",
      "Using cached autograd-1.6.2-py3-none-any.whl (49 kB)\n",
      "Using cached formulaic-1.0.1-py3-none-any.whl (94 kB)\n",
      "Downloading future-1.0.0-py3-none-any.whl (491 kB)\n",
      "   ---------------------------------------- 0.0/491.3 kB ? eta -:--:--\n",
      "   -------------------- ------------------- 245.8/491.3 kB 5.0 MB/s eta 0:00:01\n",
      "   ---------------------------------------- 491.3/491.3 kB 5.1 MB/s eta 0:00:00\n",
      "Using cached interface_meta-1.3.0-py3-none-any.whl (14 kB)\n",
      "Downloading wrapt-1.16.0-cp39-cp39-win_amd64.whl (37 kB)\n",
      "Installing collected packages: wrapt, interface-meta, h5py, future, autograd, formulaic, autograd-gamma, lifelines, stg\n",
      "Successfully installed autograd-1.6.2 autograd-gamma-0.5.0 formulaic-1.0.1 future-1.0.0 h5py-3.10.0 interface-meta-1.3.0 lifelines-0.28.0 stg-0.1.2 wrapt-1.16.0\n"
     ]
    },
    {
     "name": "stderr",
     "output_type": "stream",
     "text": [
      "\n",
      "[notice] A new release of pip is available: 23.3.2 -> 24.0\n",
      "[notice] To update, run: python.exe -m pip install --upgrade pip\n"
     ]
    }
   ],
   "source": []
  },
  {
   "cell_type": "code",
   "execution_count": 3,
   "metadata": {},
   "outputs": [],
   "source": [
    "from sklearn.metrics import confusion_matrix\n",
    "import pandas as pd\n",
    "import seaborn as sns\n",
    "import torch\n",
    "from sklearn.model_selection import train_test_split\n",
    "from stg import STG  # Assuming this is your custom model import\n",
    "import matplotlib.pyplot as plt\n",
    "import os\n"
   ]
  },
  {
   "cell_type": "code",
   "execution_count": 4,
   "metadata": {},
   "outputs": [
    {
     "name": "stdout",
     "output_type": "stream",
     "text": [
      "    V1   V2   V3   V4   V5   V6   V7   V8   V9  V10  ...  V492  V493  V494  \\\n",
      "0  485  477  537  479  452  471  491  476  475  473  ...   481   477   485   \n",
      "1  483  458  460  487  587  475  526  479  485  469  ...   478   487   338   \n",
      "2  487  542  499  468  448  471  442  478  480  477  ...   481   492   650   \n",
      "3  480  491  510  485  495  472  417  474  502  476  ...   480   474   572   \n",
      "4  484  502  528  489  466  481  402  478  487  468  ...   479   452   435   \n",
      "\n",
      "   V495  V496  V497  V498  V499  V500  Class  \n",
      "0   511   485   481   479   475   496      2  \n",
      "1   513   486   483   492   510   517      2  \n",
      "2   506   501   480   489   499   498      2  \n",
      "3   454   469   475   482   494   461      1  \n",
      "4   486   508   481   504   495   511      1  \n",
      "\n",
      "[5 rows x 501 columns]\n"
     ]
    }
   ],
   "source": [
    "# Load the MADELON dataset package\n",
    "path = os.getcwd() + \"\\madelon.csv\"\n",
    "madelon = pd.read_csv(path)\n",
    "\n",
    "# Print the first few rows of the DataFrame to verify the data\n",
    "print(madelon.head())\n",
    "\n",
    "# Split data into features and target\n",
    "X = madelon.drop('Class', axis=1)\n",
    "y = madelon['Class']\n",
    "\n",
    "# Split data into training and testing sets\n",
    "X_train, X_test, y_train, y_test = train_test_split(X, y, test_size=0.2, random_state=42)\n",
    "\n",
    "# Convert DataFrames to numpy arrays\n",
    "X_train_np = X_train.to_numpy()\n",
    "X_test_np = X_test.to_numpy()\n",
    "y_train_np = y_train.to_numpy()\n",
    "y_test_np = y_test.to_numpy()"
   ]
  },
  {
   "cell_type": "code",
   "execution_count": 5,
   "metadata": {},
   "outputs": [
    {
     "name": "stderr",
     "output_type": "stream",
     "text": [
      "c:\\Users\\yonat\\Documents\\GeomteryOfInformation\\lib\\site-packages\\torch\\nn\\modules\\loss.py:535: UserWarning: Using a target size (torch.Size([2080])) that is different to the input size (torch.Size([2080, 1])). This will likely lead to incorrect results due to broadcasting. Please ensure they have the same size.\n",
      "  return F.mse_loss(input, target, reduction=self.reduction)\n",
      "c:\\Users\\yonat\\Documents\\GeomteryOfInformation\\lib\\site-packages\\torch\\nn\\modules\\loss.py:535: UserWarning: Using a target size (torch.Size([520])) that is different to the input size (torch.Size([520, 1])). This will likely lead to incorrect results due to broadcasting. Please ensure they have the same size.\n",
      "  return F.mse_loss(input, target, reduction=self.reduction)\n"
     ]
    },
    {
     "name": "stdout",
     "output_type": "stream",
     "text": [
      "Epoch: 1000: loss=0.333937 valid_loss=0.249973\n",
      "Epoch: 2000: loss=0.333347 valid_loss=0.249984\n",
      "Epoch: 3000: loss=0.332924 valid_loss=0.249972\n"
     ]
    }
   ],
   "source": [
    "\n",
    "# Define model parameters\n",
    "args_cuda = torch.cuda.is_available()\n",
    "device = torch.device(\"cuda\" if args_cuda else \"cpu\")\n",
    "feature_selection = True\n",
    "\n",
    "# Initialize and fit the model\n",
    "model = STG(task_type='regression',\n",
    "            input_dim=X_train_np.shape[1],\n",
    "            output_dim=1,\n",
    "            hidden_dims=[500, 50, 10],\n",
    "            activation='tanh',\n",
    "            optimizer='SGD',\n",
    "            learning_rate=0.1,\n",
    "            batch_size=X_train_np.shape[0],\n",
    "            feature_selection=feature_selection,\n",
    "            sigma=0.5,\n",
    "            lam=0.1,\n",
    "            random_state=1,\n",
    "            device=device)\n",
    "\n",
    "model.fit(X_train_np, y_train_np, nr_epochs=3000, valid_X=X_test_np, valid_y=y_test_np, print_interval=1000)\n"
   ]
  },
  {
   "cell_type": "code",
   "execution_count": 6,
   "metadata": {},
   "outputs": [
    {
     "name": "stdout",
     "output_type": "stream",
     "text": [
      "Train Loss: 0.25008729100227356\n",
      "Test Loss: 0.24997229874134064\n"
     ]
    },
    {
     "name": "stderr",
     "output_type": "stream",
     "text": [
      "c:\\Users\\yonat\\Documents\\GeomteryOfInformation\\lib\\site-packages\\torch\\nn\\modules\\loss.py:535: UserWarning: Using a target size (torch.Size([2080, 1])) that is different to the input size (torch.Size([2080])). This will likely lead to incorrect results due to broadcasting. Please ensure they have the same size.\n",
      "  return F.mse_loss(input, target, reduction=self.reduction)\n",
      "c:\\Users\\yonat\\Documents\\GeomteryOfInformation\\lib\\site-packages\\torch\\nn\\modules\\loss.py:535: UserWarning: Using a target size (torch.Size([520, 1])) that is different to the input size (torch.Size([520])). This will likely lead to incorrect results due to broadcasting. Please ensure they have the same size.\n",
      "  return F.mse_loss(input, target, reduction=self.reduction)\n"
     ]
    }
   ],
   "source": [
    "# Evaluate the model\n",
    "tmp_loss = torch.nn.MSELoss()\n",
    "train_loss = tmp_loss(torch.Tensor(y_train_np), torch.Tensor(model.predict(X_train_np)))\n",
    "test_loss = tmp_loss(torch.Tensor(y_test_np), torch.Tensor(model.predict(X_test_np)))\n",
    "\n",
    "print(f\"Train Loss: {train_loss.item()}\")\n",
    "print(f\"Test Loss: {test_loss.item()}\")\n"
   ]
  },
  {
   "cell_type": "code",
   "execution_count": null,
   "metadata": {},
   "outputs": [],
   "source": [
    "# X_train_np\n",
    "# X_test_np \n",
    "# y_train_np\n",
    "# y_test_np\n",
    "# Plotting the results\n",
    "y_pred_train = model.predict(X_train_np)\n",
    "y_pred_test = model.predict(X_test_np)\n",
    "\n",
    "# Calculate confusion matrices for both training and testing sets\n",
    "y_train_flat = y_train_np.ravel()\n",
    "y_pred_train_flat = y_pred_train.ravel()\n",
    "conf_matrix_train = confusion_matrix(y_train_flat, y_pred_train_flat)\n",
    "# conf_matrix_test = confusion_matrix(y_test_np, y_pred_test)\n"
   ]
  },
  {
   "cell_type": "code",
   "execution_count": null,
   "metadata": {},
   "outputs": [],
   "source": [
    "\n",
    "# Plot confusion matrix for training set\n",
    "plt.figure(figsize=(10, 5))\n",
    "plt.subplot(1, 2, 1)\n",
    "sns.heatmap(conf_matrix_train, annot=True, fmt='d', cmap='Blues')\n",
    "plt.title('Confusion Matrix - Training Set')\n",
    "plt.xlabel('Predicted Label')\n",
    "plt.ylabel('True Label')\n",
    "\n",
    "# Plot confusion matrix for testing set\n",
    "plt.subplot(1, 2, 2)\n",
    "sns.heatmap(conf_matrix_test, annot=True, fmt='d', cmap='Blues')\n",
    "plt.title('Confusion Matrix - Testing Set')\n",
    "plt.xlabel('Predicted Label')\n",
    "plt.ylabel('True Label')\n",
    "\n",
    "plt.tight_layout()\n",
    "plt.show()"
   ]
  }
 ],
 "metadata": {
  "kernelspec": {
   "display_name": "Python 3",
   "language": "python",
   "name": "python3"
  },
  "language_info": {
   "codemirror_mode": {
    "name": "ipython",
    "version": 3
   },
   "file_extension": ".py",
   "mimetype": "text/x-python",
   "name": "python",
   "nbconvert_exporter": "python",
   "pygments_lexer": "ipython3",
   "version": "3.9.13"
  }
 },
 "nbformat": 4,
 "nbformat_minor": 2
}
